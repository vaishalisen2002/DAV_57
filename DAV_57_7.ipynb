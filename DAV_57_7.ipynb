{
  "nbformat": 4,
  "nbformat_minor": 0,
  "metadata": {
    "colab": {
      "provenance": [],
      "authorship_tag": "ABX9TyPTLdr921OpcnYMm7+fFNEN",
      "include_colab_link": true
    },
    "kernelspec": {
      "name": "ir",
      "display_name": "R"
    },
    "language_info": {
      "name": "R"
    }
  },
  "cells": [
    {
      "cell_type": "markdown",
      "metadata": {
        "id": "view-in-github",
        "colab_type": "text"
      },
      "source": [
        "<a href=\"https://colab.research.google.com/github/vaishalisen2002/DAV_57/blob/main/DAV_57_7.ipynb\" target=\"_parent\"><img src=\"https://colab.research.google.com/assets/colab-badge.svg\" alt=\"Open In Colab\"/></a>"
      ]
    },
    {
      "cell_type": "markdown",
      "source": [],
      "metadata": {
        "id": "y-ZFDuRTJjUC"
      }
    },
    {
      "cell_type": "markdown",
      "source": [
        "# **Experiment 7**\n",
        "\n",
        "\n",
        "\n",
        "**Aim:** To perform the steps involved in Text Analytics in Python & R\n",
        "\n",
        "\n",
        "\n",
        "**Task to be performed :**\n",
        "\n",
        "\n",
        "\n",
        "Explore Top-5 Text Analytics Libraries in Python (w.r.t Features & Applications)\n",
        "\n",
        "Explore Top-5 Text Analytics Libraries in R (w.r.t Features & Applications)\n",
        "\n",
        "Perform the following experiments using Python & R:\n",
        "\n",
        "Tokenization (Sentence & Word)\n",
        "\n",
        "Frequency Distribution\n",
        "\n",
        "Remove stopwords & punctuations\n",
        "\n",
        "Lexicon Normalization (Stemming, Lemmatization)\n",
        "\n",
        "Part of Speech tagging\n",
        "\n",
        "Named Entity Recognization\n",
        "\n",
        "\n",
        "Scrape data from a website\n"
      ],
      "metadata": {
        "id": "oRkX7wB9JmAz"
      }
    },
    {
      "cell_type": "markdown",
      "source": [
        "# **Python**"
      ],
      "metadata": {
        "id": "I5wq-wuZKsgJ"
      }
    },
    {
      "cell_type": "markdown",
      "source": [
        "**Tokenization**:"
      ],
      "metadata": {
        "id": "f8ydB-LrKxXZ"
      }
    },
    {
      "cell_type": "code",
      "source": [
        "import nltk\n",
        "from nltk.tokenize import sent_tokenize, word_tokenize\n",
        "\n",
        "nltk.download('punkt')\n",
        "\n",
        "# Sentence Tokenization\n",
        "sentences = sent_tokenize(\"Your time is limited, so don't waste it living someone else's life. Don't be trapped by dogma – which is living with the results of other people's thinking.\")\n",
        "\n",
        "# Word Tokenization\n",
        "words = word_tokenize(\"If you set your goals ridiculously high and it's a failure, you will fail above everyone else's success\")\n"
      ],
      "metadata": {
        "colab": {
          "base_uri": "https://localhost:8080/"
        },
        "id": "PG00ycf3LZMh",
        "outputId": "8807eedc-96b3-472d-ac77-99c3b49338e4"
      },
      "execution_count": null,
      "outputs": [
        {
          "output_type": "stream",
          "name": "stderr",
          "text": [
            "[nltk_data] Downloading package punkt to /root/nltk_data...\n",
            "[nltk_data]   Unzipping tokenizers/punkt.zip.\n"
          ]
        }
      ]
    },
    {
      "cell_type": "code",
      "source": [
        "sentences"
      ],
      "metadata": {
        "colab": {
          "base_uri": "https://localhost:8080/"
        },
        "id": "4_lFU-RYNaZa",
        "outputId": "8f77b90a-2d7c-4a2a-9d55-92526431807d"
      },
      "execution_count": null,
      "outputs": [
        {
          "output_type": "execute_result",
          "data": {
            "text/plain": [
              "[\"Your time is limited, so don't waste it living someone else's life.\",\n",
              " \"Don't be trapped by dogma – which is living with the results of other people's thinking.\"]"
            ]
          },
          "metadata": {},
          "execution_count": 3
        }
      ]
    },
    {
      "cell_type": "code",
      "source": [
        "words"
      ],
      "metadata": {
        "colab": {
          "base_uri": "https://localhost:8080/"
        },
        "id": "KPj_vDI3N6oM",
        "outputId": "752e3cd9-2a5d-4540-93f9-90583aa0f27c"
      },
      "execution_count": null,
      "outputs": [
        {
          "output_type": "execute_result",
          "data": {
            "text/plain": [
              "['If',\n",
              " 'you',\n",
              " 'set',\n",
              " 'your',\n",
              " 'goals',\n",
              " 'ridiculously',\n",
              " 'high',\n",
              " 'and',\n",
              " 'it',\n",
              " \"'s\",\n",
              " 'a',\n",
              " 'failure',\n",
              " ',',\n",
              " 'you',\n",
              " 'will',\n",
              " 'fail',\n",
              " 'above',\n",
              " 'everyone',\n",
              " 'else',\n",
              " \"'s\",\n",
              " 'success']"
            ]
          },
          "metadata": {},
          "execution_count": 4
        }
      ]
    },
    {
      "cell_type": "markdown",
      "source": [
        "**Frequency Distribution**"
      ],
      "metadata": {
        "id": "YSK2DXaIOC1g"
      }
    },
    {
      "cell_type": "code",
      "source": [
        "# Importing FreqDist library from nltk and passing token into FreqDist\n",
        "from nltk.probability import FreqDist\n",
        "fdist = FreqDist(words)\n",
        "fdist"
      ],
      "metadata": {
        "colab": {
          "base_uri": "https://localhost:8080/"
        },
        "id": "w8I8oH7fN-go",
        "outputId": "77a80b26-2b8c-485a-de89-6251ea3f2425"
      },
      "execution_count": null,
      "outputs": [
        {
          "output_type": "execute_result",
          "data": {
            "text/plain": [
              "FreqDist({'you': 2, \"'s\": 2, 'If': 1, 'set': 1, 'your': 1, 'goals': 1, 'ridiculously': 1, 'high': 1, 'and': 1, 'it': 1, ...})"
            ]
          },
          "metadata": {},
          "execution_count": 5
        }
      ]
    },
    {
      "cell_type": "code",
      "source": [
        "import matplotlib.pyplot as plt\n",
        "from nltk import FreqDist\n",
        "\n",
        "\n",
        "freq_dist = FreqDist(words)\n",
        "\n",
        "# Plotting the frequency distribution\n",
        "freq_dist.plot(10, cumulative=False)\n",
        "\n",
        "plt.show()\n"
      ],
      "metadata": {
        "colab": {
          "base_uri": "https://localhost:8080/",
          "height": 515
        },
        "id": "-Nv3YrbvlVlF",
        "outputId": "508f4b17-7238-4a5e-f158-cfb6087ed790"
      },
      "execution_count": null,
      "outputs": [
        {
          "output_type": "display_data",
          "data": {
            "text/plain": [
              "<Figure size 640x480 with 1 Axes>"
            ],
            "image/png": "[encoded data removed]"
          },
          "metadata": {}
        }
      ]
    },
    {
      "cell_type": "code",
      "source": [
        "# Importing FreqDist library from nltk and passing token into FreqDist\n",
        "from nltk.probability import FreqDist\n",
        "fdist = FreqDist(sentences)\n",
        "fdist"
      ],
      "metadata": {
        "colab": {
          "base_uri": "https://localhost:8080/"
        },
        "id": "r317J-t1ObAy",
        "outputId": "dcdd1413-99db-4478-cac0-1e249fb8e7dc"
      },
      "execution_count": null,
      "outputs": [
        {
          "output_type": "execute_result",
          "data": {
            "text/plain": [
              "FreqDist({\"Your time is limited, so don't waste it living someone else's life.\": 1, \"Don't be trapped by dogma – which is living with the results of other people's thinking.\": 1})"
            ]
          },
          "metadata": {},
          "execution_count": 7
        }
      ]
    },
    {
      "cell_type": "markdown",
      "source": [
        "**Remove stopwords & punctuations**"
      ],
      "metadata": {
        "id": "AjNJ2xO0O1x4"
      }
    },
    {
      "cell_type": "code",
      "source": [
        "import nltk\n",
        "from nltk.corpus import stopwords\n",
        "import string\n",
        "\n",
        "# Download NLTK stopwords\n",
        "nltk.download('stopwords')\n",
        "\n",
        "text = \"Your time is limited, so don't waste it living someone else's life. Don't be trapped by dogma – which is living with the results of other people's thinking.\"\n",
        "\n",
        "\n",
        "# Remove stopwords and punctuation\n",
        "stop_words = set(stopwords.words('english'))\n",
        "filtered_words = [word.lower() for word in words if word.lower() not in stop_words and word.lower() not in string.punctuation]\n",
        "\n",
        "# Join the filtered words to form a cleaned text\n",
        "cleaned_text = ' '.join(filtered_words)\n",
        "print(cleaned_text)\n",
        "\n",
        "\n",
        "\n"
      ],
      "metadata": {
        "colab": {
          "base_uri": "https://localhost:8080/"
        },
        "id": "5tVpp-AfO47h",
        "outputId": "324b765d-a315-441e-a5d6-eac48ab49d35"
      },
      "execution_count": null,
      "outputs": [
        {
          "output_type": "stream",
          "name": "stdout",
          "text": [
            "set goals ridiculously high 's failure fail everyone else 's success\n"
          ]
        },
        {
          "output_type": "stream",
          "name": "stderr",
          "text": [
            "[nltk_data] Downloading package stopwords to /root/nltk_data...\n",
            "[nltk_data]   Unzipping corpora/stopwords.zip.\n"
          ]
        }
      ]
    },
    {
      "cell_type": "code",
      "source": [
        "cleaned_text\n"
      ],
      "metadata": {
        "colab": {
          "base_uri": "https://localhost:8080/",
          "height": 36
        },
        "id": "b9nx_t3sP-xh",
        "outputId": "9a4fbd24-57e1-42f1-cc2f-9b75eddb2d72"
      },
      "execution_count": null,
      "outputs": [
        {
          "output_type": "execute_result",
          "data": {
            "text/plain": [
              "\"set goals ridiculously high 's failure fail everyone else 's success\""
            ],
            "application/vnd.google.colaboratory.intrinsic+json": {
              "type": "string"
            }
          },
          "metadata": {},
          "execution_count": 9
        }
      ]
    },
    {
      "cell_type": "code",
      "source": [
        "import string\n",
        "\n",
        "text = \"Your time is limited, so don't waste it living someone else's life. Don't be trapped by dogma - which is living with the results of other people's thinking.\"\n",
        "\n",
        "# Remove punctuations\n",
        "cleaned_text = ''.join(char for char in text if char not in string.punctuation)\n",
        "\n",
        "print(cleaned_text)\n"
      ],
      "metadata": {
        "colab": {
          "base_uri": "https://localhost:8080/"
        },
        "id": "NflhMF0rRpLU",
        "outputId": "f97b8f1f-a37b-4113-e695-79c63fbd5f40"
      },
      "execution_count": null,
      "outputs": [
        {
          "output_type": "stream",
          "name": "stdout",
          "text": [
            "Your time is limited so dont waste it living someone elses life Dont be trapped by dogma  which is living with the results of other peoples thinking\n"
          ]
        }
      ]
    },
    {
      "cell_type": "markdown",
      "source": [
        "**Stemming**"
      ],
      "metadata": {
        "id": "O1YOXUrLR7-A"
      }
    },
    {
      "cell_type": "code",
      "source": [
        "import nltk\n",
        "nltk.download('stopwords')\n",
        "nltk.download('punkt')\n",
        "from nltk.corpus import stopwords\n",
        "from nltk.stem import PorterStemmer"
      ],
      "metadata": {
        "colab": {
          "base_uri": "https://localhost:8080/"
        },
        "id": "AUoOsBGwHCz0",
        "outputId": "51a66b09-7961-4557-bd3a-e04c7f047132"
      },
      "execution_count": null,
      "outputs": [
        {
          "output_type": "stream",
          "name": "stderr",
          "text": [
            "[nltk_data] Downloading package stopwords to /root/nltk_data...\n",
            "[nltk_data]   Package stopwords is already up-to-date!\n",
            "[nltk_data] Downloading package punkt to /root/nltk_data...\n",
            "[nltk_data]   Package punkt is already up-to-date!\n"
          ]
        }
      ]
    },
    {
      "cell_type": "code",
      "source": [
        "paragraph=\"Your time is limited, so don't waste it living someone else's life. Don't be trapped by dogma – which is living with the results of other people's thinking\""
      ],
      "metadata": {
        "id": "rzTT0JxFVptJ"
      },
      "execution_count": null,
      "outputs": []
    },
    {
      "cell_type": "code",
      "source": [
        "sentences = nltk.sent_tokenize(paragraph)\n",
        "print(sentences)"
      ],
      "metadata": {
        "colab": {
          "base_uri": "https://localhost:8080/"
        },
        "id": "2VNi8OwLRzY4",
        "outputId": "262db15b-525a-4083-e7b7-7536bbaaec7f"
      },
      "execution_count": null,
      "outputs": [
        {
          "output_type": "stream",
          "name": "stdout",
          "text": [
            "[\"Your time is limited, so don't waste it living someone else's life.\", \"Don't be trapped by dogma – which is living with the results of other people's thinking\"]\n"
          ]
        }
      ]
    },
    {
      "cell_type": "markdown",
      "source": [
        "**Lemmatization**"
      ],
      "metadata": {
        "id": "Kgx-bprDSOyp"
      }
    },
    {
      "cell_type": "code",
      "source": [
        "nltk.download('wordnet')\n",
        "from nltk.stem import WordNetLemmatizer"
      ],
      "metadata": {
        "colab": {
          "base_uri": "https://localhost:8080/"
        },
        "id": "oqJtete1SUjE",
        "outputId": "e6161cab-20d7-490d-9cfe-c14772bed3b8"
      },
      "execution_count": null,
      "outputs": [
        {
          "output_type": "stream",
          "name": "stderr",
          "text": [
            "[nltk_data] Downloading package wordnet to /root/nltk_data...\n"
          ]
        }
      ]
    },
    {
      "cell_type": "code",
      "source": [
        "lemmatizer = WordNetLemmatizer()\n",
        "\n",
        "for i in range(len(sentences)):\n",
        "    words = nltk.word_tokenize(sentences[i])\n",
        "    words = [lemmatizer.lemmatize(word) for word in words if word not in set(stopwords.words('english'))]\n",
        "    sentences[i] = ' '.join(words)"
      ],
      "metadata": {
        "id": "gcKgNksIScGA"
      },
      "execution_count": null,
      "outputs": []
    },
    {
      "cell_type": "code",
      "source": [
        "print(sentences)"
      ],
      "metadata": {
        "colab": {
          "base_uri": "https://localhost:8080/"
        },
        "id": "rIqf7b5pSg_O",
        "outputId": "6b6e88b1-634a-41a3-ab6a-66cd6052792c"
      },
      "execution_count": null,
      "outputs": [
        {
          "output_type": "stream",
          "name": "stdout",
          "text": [
            "[\"Your time limited , n't waste living someone else 's life .\", \"Do n't trapped dogma – living result people 's thinking\"]\n"
          ]
        }
      ]
    },
    {
      "cell_type": "markdown",
      "source": [
        "**Parts of Speech tagging**"
      ],
      "metadata": {
        "id": "-DMov_QNSkNb"
      }
    },
    {
      "cell_type": "code",
      "source": [
        "nltk.download('averaged_perceptron_tagger')"
      ],
      "metadata": {
        "colab": {
          "base_uri": "https://localhost:8080/"
        },
        "id": "n3oJP-y6SuB5",
        "outputId": "b077cb6c-b6fc-4c0e-8fc8-8eb8eb28d119"
      },
      "execution_count": null,
      "outputs": [
        {
          "output_type": "stream",
          "name": "stderr",
          "text": [
            "[nltk_data] Downloading package averaged_perceptron_tagger to\n",
            "[nltk_data]     /root/nltk_data...\n",
            "[nltk_data]   Unzipping taggers/averaged_perceptron_tagger.zip.\n"
          ]
        },
        {
          "output_type": "execute_result",
          "data": {
            "text/plain": [
              "True"
            ]
          },
          "metadata": {},
          "execution_count": 17
        }
      ]
    },
    {
      "cell_type": "code",
      "source": [
        "import nltk\n",
        "from nltk.tokenize import word_tokenize\n",
        "from nltk import pos_tag"
      ],
      "metadata": {
        "id": "_5DW8JjESyJ6"
      },
      "execution_count": null,
      "outputs": []
    },
    {
      "cell_type": "code",
      "source": [
        "text= \"In the enchanting realm of language, where words waltz and metaphors mingle, the tapestry of expression weaves together a symphony of figures of speech, each playing its unique melody in the grand orchestra of communication. The sun, that celestial painter, splashes the canvas of the morning sky with hues of gold, casting its radiant beams like a masterful artist. As time dances on, the relentless river of life meanders through the valleys of experience, its current whispering secrets to the attentive ears of those who dare to listen. Emotions, like kaleidoscopic butterflies, flutter through the garden of the human soul, leaving traces of joy and sorrow in their ephemeral wake.\""
      ],
      "metadata": {
        "id": "MgubHrcwTFBt"
      },
      "execution_count": null,
      "outputs": []
    },
    {
      "cell_type": "code",
      "source": [
        "pos_tags = pos_tag(words)"
      ],
      "metadata": {
        "id": "1SdC19m-UAkA"
      },
      "execution_count": null,
      "outputs": []
    },
    {
      "cell_type": "code",
      "source": [
        "print(\"Original Text:\")\n",
        "print(text)\n",
        "\n",
        "print(\"\\nPoS Tagging Result:\")\n",
        "for word, pos_tag in pos_tags:\n",
        "    print(f\"{word}: {pos_tag}\")"
      ],
      "metadata": {
        "colab": {
          "base_uri": "https://localhost:8080/"
        },
        "id": "sDTkX4pOUJQX",
        "outputId": "8ad66422-6198-413a-e998-b688e4b29da7"
      },
      "execution_count": null,
      "outputs": [
        {
          "output_type": "stream",
          "name": "stdout",
          "text": [
            "Original Text:\n",
            "In the enchanting realm of language, where words waltz and metaphors mingle, the tapestry of expression weaves together a symphony of figures of speech, each playing its unique melody in the grand orchestra of communication. The sun, that celestial painter, splashes the canvas of the morning sky with hues of gold, casting its radiant beams like a masterful artist. As time dances on, the relentless river of life meanders through the valleys of experience, its current whispering secrets to the attentive ears of those who dare to listen. Emotions, like kaleidoscopic butterflies, flutter through the garden of the human soul, leaving traces of joy and sorrow in their ephemeral wake.\n",
            "\n",
            "PoS Tagging Result:\n",
            "Do: VBP\n",
            "n't: RB\n",
            "trapped: VB\n",
            "dogma: VB\n",
            "–: NNP\n",
            "living: VBG\n",
            "result: NN\n",
            "people: NNS\n",
            "'s: POS\n",
            "thinking: NN\n"
          ]
        }
      ]
    },
    {
      "cell_type": "markdown",
      "source": [
        "**Name entity recognization**\n"
      ],
      "metadata": {
        "id": "IRkVpyYWUXGu"
      }
    },
    {
      "cell_type": "code",
      "source": [
        "import pandas as pd\n",
        "import spacy\n",
        "import requests\n",
        "from bs4 import BeautifulSoup\n",
        "nlp = spacy.load(\"en_core_web_sm\")\n",
        "pd.set_option(\"display.max_rows\", 200)"
      ],
      "metadata": {
        "id": "XO2igFHeUJc4"
      },
      "execution_count": null,
      "outputs": []
    },
    {
      "cell_type": "code",
      "source": [
        "content =  \"Trinamool Congress leader Mahua Moitra has moved the Supreme Court against her expulsion from the Lok Sabha over the cash-for-query allegations against her. Moitra was ousted from the Parliament last week after the Ethics Committee of the Lok Sabha found her guilty of jeopardising national security by sharing her parliamentary portal's login credentials with businessman Darshan Hiranandani.\"\n",
        "\n",
        "doc = nlp(content)\n",
        "\n",
        "for ent in doc.ents:\n",
        "    print(ent.text, ent.start_char, ent.end_char, ent.label_)\n",
        "doc = nlp(content)\n",
        "\n",
        "for ent in doc.ents:\n",
        "    print(ent.text, ent.start_char, ent.end_char, ent.label_)"
      ],
      "metadata": {
        "colab": {
          "base_uri": "https://localhost:8080/"
        },
        "id": "pGqWIDilWKDt",
        "outputId": "b8539d57-7d06-4d38-e97d-3d2cfe16de7e"
      },
      "execution_count": null,
      "outputs": [
        {
          "output_type": "stream",
          "name": "stdout",
          "text": [
            "Congress 10 18 ORG\n",
            "Mahua Moitra 26 38 PERSON\n",
            "the Supreme Court 49 66 ORG\n",
            "the Lok Sabha 94 107 PERSON\n",
            "Moitra 157 163 ORG\n",
            "Parliament 184 194 ORG\n",
            "last week 195 204 DATE\n",
            "the Ethics Committee 211 231 ORG\n",
            "Darshan Hiranandani 373 392 PERSON\n",
            "Congress 10 18 ORG\n",
            "Mahua Moitra 26 38 PERSON\n",
            "the Supreme Court 49 66 ORG\n",
            "the Lok Sabha 94 107 PERSON\n",
            "Moitra 157 163 ORG\n",
            "Parliament 184 194 ORG\n",
            "last week 195 204 DATE\n",
            "the Ethics Committee 211 231 ORG\n",
            "Darshan Hiranandani 373 392 PERSON\n"
          ]
        }
      ]
    },
    {
      "cell_type": "markdown",
      "source": [
        "# **IMPLEMENTATION IN R**"
      ],
      "metadata": {
        "id": "145fZAsyWZ9b"
      }
    },
    {
      "cell_type": "markdown",
      "source": [
        "\n",
        "\n",
        "1.   **tm (Text Mining Infrastructure in R):**\n",
        "\n",
        "Features: tm provides a framework for text mining applications within R. It offers various functions for text preprocessing, term-document matrix creation, and text analysis.\n",
        "Applications: tm is widely used for tasks such as document classification, sentiment analysis, topic modeling, and text clustering. It's particularly useful for analyzing large collections of textual data.\n",
        "\n",
        "\n",
        "\n",
        "\n",
        "\n",
        "\n",
        "\n",
        "2. **quanteda:**\n",
        "\n",
        "Features: quanteda is a fast and flexible R package for text analysis. It offers functionalities for text preprocessing, corpus management, and various text analysis methods.\n",
        "Applications: quanteda is commonly used for quantitative text analysis, including but not limited to sentiment analysis, text classification, content analysis, and network analysis of textual data.\n",
        "\n",
        "\n",
        "\n",
        "\n",
        "\n",
        "\n",
        "3.  **text2vec:**\n",
        "\n",
        "Features: text2vec is an R package designed for text mining and natural language processing tasks. It provides efficient implementations of text processing algorithms suitable for large text datasets.\n",
        "Applications: text2vec is useful for tasks such as word embeddings, document similarity analysis, text classification, and topic modeling. It's particularly efficient for dealing with large-scale text data due to its vectorized implementations.\n",
        "\n",
        "\n",
        "\n",
        "\n",
        "4.  ** RWeka:**\n",
        "\n",
        "Features: RWeka is an R interface to Weka, a popular machine learning library in Java. It provides access to a wide range of machine learning algorithms, including those for text classification and clustering.\n",
        "Applications: RWeka can be used for various text mining tasks such as text classification, text clustering, and association rule mining. It allows R users to leverage the extensive set of machine learning algorithms available in Weka for text analysis.\n",
        "\n",
        "\n",
        "\n",
        "\n",
        "\n",
        "\n",
        "5. **textmineR:**\n",
        "\n",
        "Features: textmineR is an R package specifically designed for text mining tasks. It offers functions for text preprocessing, term frequency analysis, and text visualization.\n",
        "Applications: textmineR is suitable for tasks such as text summarization, keyword extraction, document clustering, and text visualization. It provides a user-friendly interface for conducting various text mining operations in R.\n",
        "\n",
        "\n",
        "\n",
        "\n",
        "\n",
        "\n",
        "\n",
        "\n",
        "\n",
        "\n"
      ],
      "metadata": {
        "id": "E0tTQxPbWdiQ"
      }
    },
    {
      "cell_type": "code",
      "source": [
        "install.packages(\"tokenizers\")\n",
        "install.packages(\"tm\")"
      ],
      "metadata": {
        "colab": {
          "base_uri": "https://localhost:8080/"
        },
        "id": "92pg6FpXX9lP",
        "outputId": "94f04d85-33d5-4ba1-e71d-3db78a7a9a62"
      },
      "execution_count": 1,
      "outputs": [
        {
          "output_type": "stream",
          "name": "stderr",
          "text": [
            "Installing package into ‘/usr/local/lib/R/site-library’\n",
            "(as ‘lib’ is unspecified)\n",
            "\n",
            "also installing the dependencies ‘Rcpp’, ‘SnowballC’\n",
            "\n",
            "\n",
            "Installing package into ‘/usr/local/lib/R/site-library’\n",
            "(as ‘lib’ is unspecified)\n",
            "\n",
            "also installing the dependencies ‘NLP’, ‘slam’, ‘BH’\n",
            "\n",
            "\n"
          ]
        }
      ]
    },
    {
      "cell_type": "code",
      "source": [
        "library(tokenizers)\n",
        "\n",
        "text <- readline(prompt = \"Enter text: \")\n",
        "\n",
        "word_tokens <- unlist(tokenize_words(text))\n",
        "sentence_tokens <- unlist(tokenize_sentences(text))\n",
        "\n",
        "cat(\"\\nTokenized words:\\n\")\n",
        "print(word_tokens)\n",
        "\n",
        "cat(\"\\nTokenized sentences:\\n\")\n",
        "print(sentence_tokens)"
      ],
      "metadata": {
        "colab": {
          "base_uri": "https://localhost:8080/"
        },
        "id": "AfNJgGVl3WHA",
        "outputId": "94ebadc5-7385-4f57-ee26-b38831c41250"
      },
      "execution_count": 2,
      "outputs": [
        {
          "output_type": "stream",
          "name": "stdout",
          "text": [
            "Enter text:  RWeka is an R interface to Weka, a popular machine learning library in Java. It provides access to a wide range of machine learning algorithms, including those for text classification and clustering.\n",
            "\n",
            "Tokenized words:\n",
            " [1] \"rweka\"          \"is\"             \"an\"             \"r\"             \n",
            " [5] \"interface\"      \"to\"             \"weka\"           \"a\"             \n",
            " [9] \"popular\"        \"machine\"        \"learning\"       \"library\"       \n",
            "[13] \"in\"             \"java\"           \"it\"             \"provides\"      \n",
            "[17] \"access\"         \"to\"             \"a\"              \"wide\"          \n",
            "[21] \"range\"          \"of\"             \"machine\"        \"learning\"      \n",
            "[25] \"algorithms\"     \"including\"      \"those\"          \"for\"           \n",
            "[29] \"text\"           \"classification\" \"and\"            \"clustering\"    \n",
            "\n",
            "Tokenized sentences:\n",
            "[1] \"RWeka is an R interface to Weka, a popular machine learning library in Java.\"                                              \n",
            "[2] \"It provides access to a wide range of machine learning algorithms, including those for text classification and clustering.\"\n"
          ]
        }
      ]
    },
    {
      "cell_type": "code",
      "source": [
        "word_freq <- table(word_tokens)\n",
        "\n",
        "print(\"Most common words:\")\n",
        "print(head(sort(word_freq, decreasing = TRUE), 2))\n",
        "\n",
        "print(\"Frequency of each word:\")\n",
        "print(word_freq)"
      ],
      "metadata": {
        "colab": {
          "base_uri": "https://localhost:8080/"
        },
        "id": "YnXod4Q9Bsjv",
        "outputId": "ed1fa09d-3df3-4c07-a255-f06e1d731089"
      },
      "execution_count": 3,
      "outputs": [
        {
          "output_type": "stream",
          "name": "stdout",
          "text": [
            "[1] \"Most common words:\"\n",
            "word_tokens\n",
            "       a learning \n",
            "       2        2 \n",
            "[1] \"Frequency of each word:\"\n",
            "word_tokens\n",
            "             a         access     algorithms             an            and \n",
            "             2              1              1              1              1 \n",
            "classification     clustering            for             in      including \n",
            "             1              1              1              1              1 \n",
            "     interface             is             it           java       learning \n",
            "             1              1              1              1              2 \n",
            "       library        machine             of        popular       provides \n",
            "             1              2              1              1              1 \n",
            "             r          range          rweka           text          those \n",
            "             1              1              1              1              1 \n",
            "            to           weka           wide \n",
            "             2              1              1 \n"
          ]
        }
      ]
    },
    {
      "cell_type": "code",
      "source": [
        "library(tm)\n",
        "\n",
        "filtered_tokens <- word_tokens[!word_tokens %in% stopwords(\"en\")]\n",
        "\n",
        "print(\"Filtered Tokens:\")\n",
        "print(filtered_tokens)"
      ],
      "metadata": {
        "colab": {
          "base_uri": "https://localhost:8080/"
        },
        "id": "3X6UdNN431mp",
        "outputId": "3cb46119-20e8-45a3-b716-e47af840819a"
      },
      "execution_count": 4,
      "outputs": [
        {
          "output_type": "stream",
          "name": "stderr",
          "text": [
            "Loading required package: NLP\n",
            "\n"
          ]
        },
        {
          "output_type": "stream",
          "name": "stdout",
          "text": [
            "[1] \"Filtered Tokens:\"\n",
            " [1] \"rweka\"          \"r\"              \"interface\"      \"weka\"          \n",
            " [5] \"popular\"        \"machine\"        \"learning\"       \"library\"       \n",
            " [9] \"java\"           \"provides\"       \"access\"         \"wide\"          \n",
            "[13] \"range\"          \"machine\"        \"learning\"       \"algorithms\"    \n",
            "[17] \"including\"      \"text\"           \"classification\" \"clustering\"    \n"
          ]
        }
      ]
    },
    {
      "cell_type": "code",
      "source": [
        "stemming <- function(text) {\n",
        "  corpus <- Corpus(VectorSource(text))\n",
        "  corpus <- tm_map(corpus, stemDocument)\n",
        "  return(corpus)\n",
        "}\n",
        "\n",
        "stemmed_corpus <- stemming(filtered_tokens)\n",
        "\n",
        "print(\"Stemmed Tokens:\")\n",
        "print(unlist(sapply(stemmed_corpus, as.character)))"
      ],
      "metadata": {
        "colab": {
          "base_uri": "https://localhost:8080/"
        },
        "id": "Q7om_fUY36PY",
        "outputId": "6c1e9f8d-66f3-4edf-cd30-d38964663ed1"
      },
      "execution_count": 5,
      "outputs": [
        {
          "output_type": "stream",
          "name": "stderr",
          "text": [
            "Warning message in tm_map.SimpleCorpus(corpus, stemDocument):\n",
            "“transformation drops documents”\n"
          ]
        },
        {
          "output_type": "stream",
          "name": "stdout",
          "text": [
            "[1] \"Stemmed Tokens:\"\n",
            " [1] \"rweka\"     \"r\"         \"interfac\"  \"weka\"      \"popular\"   \"machin\"   \n",
            " [7] \"learn\"     \"librari\"   \"java\"      \"provid\"    \"access\"    \"wide\"     \n",
            "[13] \"rang\"      \"machin\"    \"learn\"     \"algorithm\" \"includ\"    \"text\"     \n",
            "[19] \"classif\"   \"cluster\"  \n"
          ]
        }
      ]
    },
    {
      "cell_type": "code",
      "source": [
        "library(rvest)\n",
        "\n",
        "url <- 'https://en.wikipedia.org/wiki/Text_mining'\n",
        "\n",
        "page <- read_html(url)\n",
        "\n",
        "if (!is.null(page)) {\n",
        "  print(page)\n",
        "\n",
        "  first_paragraph <- html_nodes(page, 'p')[1]\n",
        "\n",
        "  if (!is.null(first_paragraph)) {\n",
        "    print(html_text(first_paragraph))\n",
        "  } else {\n",
        "    print('No <p> tags found on the website')\n",
        "  }\n",
        "} else {\n",
        "  print('Failed to retrieve data from the website')\n",
        "}"
      ],
      "metadata": {
        "colab": {
          "base_uri": "https://localhost:8080/"
        },
        "id": "G6X7CNKE4OsQ",
        "outputId": "7254de36-7dd4-4559-c78d-fa4141af7632"
      },
      "execution_count": 13,
      "outputs": [
        {
          "output_type": "stream",
          "name": "stdout",
          "text": [
            "{html_document}\n",
            "<html class=\"client-nojs vector-feature-language-in-header-enabled vector-feature-language-in-main-page-header-disabled vector-feature-sticky-header-disabled vector-feature-page-tools-pinned-disabled vector-feature-toc-pinned-clientpref-1 vector-feature-main-menu-pinned-disabled vector-feature-limited-width-clientpref-1 vector-feature-limited-width-content-enabled vector-feature-custom-font-size-clientpref-0 vector-feature-client-preferences-disabled vector-feature-client-prefs-pinned-disabled vector-feature-night-mode-disabled skin-night-mode-clientpref-0 vector-toc-available\" lang=\"en\" dir=\"ltr\">\n",
            "[1] <head>\\n<meta http-equiv=\"Content-Type\" content=\"text/html; charset=UTF-8 ...\n",
            "[2] <body class=\"skin-vector skin-vector-search-vue mediawiki ltr sitedir-ltr ...\n",
            "[1] \"Text mining, text data mining (TDM) or text analytics is the process of deriving high-quality information from text. It involves \\\"the discovery by computer of new, previously unknown information, by automatically extracting information from different written resources.\\\"[1] Written resources may include websites, books, emails, reviews, and articles. High-quality information is typically obtained by devising patterns and trends by means such as statistical pattern learning. According to Hotho et al. (2005) we can distinguish between three different perspectives of text mining: information extraction, data mining, and a knowledge discovery in databases (KDD) process.[2] Text mining usually involves the process of structuring the input text (usually parsing, along with the addition of some derived linguistic features and the removal of others, and subsequent insertion into a database), deriving patterns within the structured data, and finally evaluation and interpretation of the output. 'High quality' in text mining usually refers to some combination of relevance, novelty, and interest. Typical text mining tasks include text categorization, text clustering, concept/entity extraction, production of granular taxonomies, sentiment analysis, document summarization, and entity relation modeling (i.e., learning relations between named entities).\\n\"\n"
          ]
        }
      ]
    }
  ]
}