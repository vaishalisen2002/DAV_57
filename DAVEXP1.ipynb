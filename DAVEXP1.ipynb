{
  "nbformat": 4,
  "nbformat_minor": 0,
  "metadata": {
    "colab": {
      "provenance": []
    },
    "kernelspec": {
      "name": "ir",
      "display_name": "R"
    },
    "language_info": {
      "name": "R"
    }
  },
  "cells": [
    {
      "cell_type": "markdown",
      "source": [
        "**EXPERIMENT 1**\n",
        "\n",
        "\n",
        "Python libraries:\n",
        "\n",
        "\n",
        "1.   Scipy\n",
        "2.   Numpy\n",
        "\n"
      ],
      "metadata": {
        "id": "8Y5FmFARAyUS"
      }
    },
    {
      "cell_type": "markdown",
      "source": [
        "**SciPy**\n",
        "\n",
        "\n",
        "SciPy is an open-source library in Python that is used for scientific and technical computing. It builds on NumPy, another popular Python library for numerical computing, and provides additional functionality for tasks such as optimization, signal and image processing, linear algebra, statistical analysis, and more.\n",
        "\n",
        "*Here are some key features of SciPy*:\n",
        "\n",
        "**Optimization**: The scipy.optimize module provides algorithms for solving optimization problems, including unconstrained and constrained minimization.\n",
        "\n",
        "**Integration and Differentiation**: SciPy offers tools for numerical integration (scipy.integrate) and differentiation (scipy.diff).\n",
        "\n",
        "**Signal and Image Processing**: The scipy.signal module contains functions for signal processing, including filtering, convolution, and spectral analysis. The scipy.ndimage module provides tools for image processing.\n",
        "\n",
        "\n",
        "\n",
        "\n",
        "\n",
        "\n",
        "\n",
        "\n"
      ],
      "metadata": {
        "id": "0IKn82sz7YiQ"
      }
    },
    {
      "cell_type": "code",
      "source": [
        "import scipy\n",
        "from scipy import stats\n",
        "import numpy as np\n",
        "import statistics\n",
        "\n",
        "data = [1, 2, 3, 4, 5, 6, 7, 8, 9, 10]\n",
        "\n",
        "\n",
        "mean_value_stats = statistics.mean(data)\n",
        "print(f\"Mean (statistics): {mean_value_stats}\")\n",
        "\n",
        "\n",
        "print(f\"Median: {median_value}\")\n",
        "print(f\"Standard Deviation: {std_deviation}\")\n"
      ],
      "metadata": {
        "colab": {
          "base_uri": "https://localhost:8080/"
        },
        "id": "9BZaI2sl-ewy",
        "outputId": "54c1cf5c-93f5-43b6-c2f1-e6c6e14fac38"
      },
      "execution_count": 4,
      "outputs": [
        {
          "output_type": "stream",
          "name": "stdout",
          "text": [
            "Mean (statistics): 5.5\n",
            "Median: 5.5\n",
            "Standard Deviation: 2.8722813232690143\n"
          ]
        }
      ]
    },
    {
      "cell_type": "markdown",
      "source": [
        "**Numpy**\n",
        "\n",
        "NumPy is a Python library used for working with arrays.It is a fundamental library for numerical computing in python.\n",
        "\n",
        " **Applications:**\n",
        "\n",
        "*Data Analysis and Manipulation:*\n",
        "NumPy arrays are the foundation for many other data analysis libraries, such as Pandas and scikit-learn.\n",
        "NumPy enables efficient and vectorized operations on large datasets, improving performance over traditional Python lists.\n",
        "\n",
        "*Machine Learning:*\n",
        "Many machine learning frameworks, including TensorFlow and PyTorch, rely on NumPy for array manipulation.\n",
        "NumPy arrays are used to represent input data, parameters, and outputs in machine learning models.\n"
      ],
      "metadata": {
        "id": "BYQ2DQJ8-u2i"
      }
    },
    {
      "cell_type": "code",
      "source": [
        "import numpy as np\n",
        "arr = np.array([1, 2, 3, 4, 5, 6])\n",
        "\n",
        "newarr = np.array_split(arr, 3)\n",
        "\n",
        "print(newarr)\n"
      ],
      "metadata": {
        "colab": {
          "base_uri": "https://localhost:8080/"
        },
        "id": "rnKiTfnGAA17",
        "outputId": "d2e5690a-efe0-4aae-88d0-0ba905b090b5"
      },
      "execution_count": 5,
      "outputs": [
        {
          "output_type": "stream",
          "name": "stdout",
          "text": [
            "[array([1, 2]), array([3, 4]), array([5, 6])]\n"
          ]
        }
      ]
    },
    {
      "cell_type": "markdown",
      "source": [
        "**R libraries:**\n",
        "\n",
        "\n",
        "1.   dplyr\n",
        "2.   tidyr\n",
        "\n"
      ],
      "metadata": {
        "id": "DvHYskABBhyj"
      }
    },
    {
      "cell_type": "markdown",
      "source": [
        "**dplyr**\n",
        "\n",
        "The package \"dplyr\" comprises many functions that perform mostly used data manipulation operations such as applying filter, selecting specific columns, sorting data, adding or deleting columns and aggregating data. Another most important advantage of this package is that it's very easy to learn and use dplyr functions. Also easy to recall these functions.\n",
        "\n",
        " *For example, filter() is used to filter rows.*\n"
      ],
      "metadata": {
        "id": "gbaHPz_tCAbK"
      }
    },
    {
      "cell_type": "code",
      "source": [
        "install.packages(\"dplyr\")"
      ],
      "metadata": {
        "colab": {
          "base_uri": "https://localhost:8080/"
        },
        "id": "ee27bnaoCivK",
        "outputId": "776f7844-9fab-49b5-9f94-0809594c6263"
      },
      "execution_count": 1,
      "outputs": [
        {
          "output_type": "stream",
          "name": "stderr",
          "text": [
            "Installing package into ‘/usr/local/lib/R/site-library’\n",
            "(as ‘lib’ is unspecified)\n",
            "\n"
          ]
        }
      ]
    },
    {
      "cell_type": "code",
      "source": [
        "library(dplyr)\n"
      ],
      "metadata": {
        "colab": {
          "base_uri": "https://localhost:8080/"
        },
        "id": "f4CDivRaDDxD",
        "outputId": "d259763c-085f-49fd-ea57-10341b4fccea"
      },
      "execution_count": 2,
      "outputs": [
        {
          "output_type": "stream",
          "name": "stderr",
          "text": [
            "\n",
            "Attaching package: ‘dplyr’\n",
            "\n",
            "\n",
            "The following objects are masked from ‘package:stats’:\n",
            "\n",
            "    filter, lag\n",
            "\n",
            "\n",
            "The following objects are masked from ‘package:base’:\n",
            "\n",
            "    intersect, setdiff, setequal, union\n",
            "\n",
            "\n"
          ]
        }
      ]
    },
    {
      "cell_type": "code",
      "source": [
        "mydata = read.csv(\"https://raw.githubusercontent.com/deepanshu88/data/master/sampledata.csv\")"
      ],
      "metadata": {
        "id": "bBOmvFXCDRj8"
      },
      "execution_count": 6,
      "outputs": []
    },
    {
      "cell_type": "code",
      "source": [
        "sample_n(mydata,3)"
      ],
      "metadata": {
        "colab": {
          "base_uri": "https://localhost:8080/",
          "height": 192
        },
        "id": "iCNWbJOrEKgy",
        "outputId": "b6a26e6d-b8ad-40f8-e8b3-9cdad8b10345"
      },
      "execution_count": 7,
      "outputs": [
        {
          "output_type": "display_data",
          "data": {
            "text/html": [
              "<table class=\"dataframe\">\n",
              "<caption>A data.frame: 3 × 16</caption>\n",
              "<thead>\n",
              "\t<tr><th scope=col>Index</th><th scope=col>State</th><th scope=col>Y2002</th><th scope=col>Y2003</th><th scope=col>Y2004</th><th scope=col>Y2005</th><th scope=col>Y2006</th><th scope=col>Y2007</th><th scope=col>Y2008</th><th scope=col>Y2009</th><th scope=col>Y2010</th><th scope=col>Y2011</th><th scope=col>Y2012</th><th scope=col>Y2013</th><th scope=col>Y2014</th><th scope=col>Y2015</th></tr>\n",
              "\t<tr><th scope=col>&lt;chr&gt;</th><th scope=col>&lt;chr&gt;</th><th scope=col>&lt;int&gt;</th><th scope=col>&lt;int&gt;</th><th scope=col>&lt;int&gt;</th><th scope=col>&lt;int&gt;</th><th scope=col>&lt;int&gt;</th><th scope=col>&lt;int&gt;</th><th scope=col>&lt;int&gt;</th><th scope=col>&lt;int&gt;</th><th scope=col>&lt;int&gt;</th><th scope=col>&lt;int&gt;</th><th scope=col>&lt;int&gt;</th><th scope=col>&lt;int&gt;</th><th scope=col>&lt;int&gt;</th><th scope=col>&lt;int&gt;</th></tr>\n",
              "</thead>\n",
              "<tbody>\n",
              "\t<tr><td>O</td><td>Ohio   </td><td>1802132</td><td>1648498</td><td>1441386</td><td>1670280</td><td>1534888</td><td>1314824</td><td>1516621</td><td>1511460</td><td>1585465</td><td>1887714</td><td>1227303</td><td>1840898</td><td>1880804</td><td>1573117</td></tr>\n",
              "\t<tr><td>A</td><td>Alabama</td><td>1296530</td><td>1317711</td><td>1118631</td><td>1492583</td><td>1107408</td><td>1440134</td><td>1945229</td><td>1944173</td><td>1237582</td><td>1440756</td><td>1186741</td><td>1852841</td><td>1558906</td><td>1916661</td></tr>\n",
              "\t<tr><td>N</td><td>Nevada </td><td>1426117</td><td>1114500</td><td>1119707</td><td>1758830</td><td>1694526</td><td>1765826</td><td>1903270</td><td>1231480</td><td>1526066</td><td>1143343</td><td>1980195</td><td>1283813</td><td>1225348</td><td>1903804</td></tr>\n",
              "</tbody>\n",
              "</table>\n"
            ],
            "text/markdown": "\nA data.frame: 3 × 16\n\n| Index &lt;chr&gt; | State &lt;chr&gt; | Y2002 &lt;int&gt; | Y2003 &lt;int&gt; | Y2004 &lt;int&gt; | Y2005 &lt;int&gt; | Y2006 &lt;int&gt; | Y2007 &lt;int&gt; | Y2008 &lt;int&gt; | Y2009 &lt;int&gt; | Y2010 &lt;int&gt; | Y2011 &lt;int&gt; | Y2012 &lt;int&gt; | Y2013 &lt;int&gt; | Y2014 &lt;int&gt; | Y2015 &lt;int&gt; |\n|---|---|---|---|---|---|---|---|---|---|---|---|---|---|---|---|\n| O | Ohio    | 1802132 | 1648498 | 1441386 | 1670280 | 1534888 | 1314824 | 1516621 | 1511460 | 1585465 | 1887714 | 1227303 | 1840898 | 1880804 | 1573117 |\n| A | Alabama | 1296530 | 1317711 | 1118631 | 1492583 | 1107408 | 1440134 | 1945229 | 1944173 | 1237582 | 1440756 | 1186741 | 1852841 | 1558906 | 1916661 |\n| N | Nevada  | 1426117 | 1114500 | 1119707 | 1758830 | 1694526 | 1765826 | 1903270 | 1231480 | 1526066 | 1143343 | 1980195 | 1283813 | 1225348 | 1903804 |\n\n",
            "text/latex": "A data.frame: 3 × 16\n\\begin{tabular}{llllllllllllllll}\n Index & State & Y2002 & Y2003 & Y2004 & Y2005 & Y2006 & Y2007 & Y2008 & Y2009 & Y2010 & Y2011 & Y2012 & Y2013 & Y2014 & Y2015\\\\\n <chr> & <chr> & <int> & <int> & <int> & <int> & <int> & <int> & <int> & <int> & <int> & <int> & <int> & <int> & <int> & <int>\\\\\n\\hline\n\t O & Ohio    & 1802132 & 1648498 & 1441386 & 1670280 & 1534888 & 1314824 & 1516621 & 1511460 & 1585465 & 1887714 & 1227303 & 1840898 & 1880804 & 1573117\\\\\n\t A & Alabama & 1296530 & 1317711 & 1118631 & 1492583 & 1107408 & 1440134 & 1945229 & 1944173 & 1237582 & 1440756 & 1186741 & 1852841 & 1558906 & 1916661\\\\\n\t N & Nevada  & 1426117 & 1114500 & 1119707 & 1758830 & 1694526 & 1765826 & 1903270 & 1231480 & 1526066 & 1143343 & 1980195 & 1283813 & 1225348 & 1903804\\\\\n\\end{tabular}\n",
            "text/plain": [
              "  Index State   Y2002   Y2003   Y2004   Y2005   Y2006   Y2007   Y2008   Y2009  \n",
              "1 O     Ohio    1802132 1648498 1441386 1670280 1534888 1314824 1516621 1511460\n",
              "2 A     Alabama 1296530 1317711 1118631 1492583 1107408 1440134 1945229 1944173\n",
              "3 N     Nevada  1426117 1114500 1119707 1758830 1694526 1765826 1903270 1231480\n",
              "  Y2010   Y2011   Y2012   Y2013   Y2014   Y2015  \n",
              "1 1585465 1887714 1227303 1840898 1880804 1573117\n",
              "2 1237582 1440756 1186741 1852841 1558906 1916661\n",
              "3 1526066 1143343 1980195 1283813 1225348 1903804"
            ]
          },
          "metadata": {}
        }
      ]
    },
    {
      "cell_type": "markdown",
      "source": [
        "**tidyr**\n",
        "\n",
        "\n",
        "The goal of tidyr is to help you create tidy data.\n",
        "\n",
        " Tidy data is data where:\n",
        "\n",
        "Every column is a variable.\n",
        "\n",
        "Every row is an observation.\n",
        "\n",
        "Every cell is a single value.:"
      ],
      "metadata": {
        "id": "axr4ArIZEeVa"
      }
    },
    {
      "cell_type": "code",
      "source": [
        "\n",
        "install.packages(\"tidyverse\")\n",
        "\n"
      ],
      "metadata": {
        "colab": {
          "base_uri": "https://localhost:8080/"
        },
        "id": "nLc09bsEE3YL",
        "outputId": "687ca8cb-b01d-4c1a-b36d-49de64ab5271"
      },
      "execution_count": 8,
      "outputs": [
        {
          "output_type": "stream",
          "name": "stderr",
          "text": [
            "Installing package into ‘/usr/local/lib/R/site-library’\n",
            "(as ‘lib’ is unspecified)\n",
            "\n"
          ]
        }
      ]
    },
    {
      "cell_type": "code",
      "source": [
        "library(tidyr)"
      ],
      "metadata": {
        "id": "6vrmBAelFF79"
      },
      "execution_count": 9,
      "outputs": []
    },
    {
      "cell_type": "code",
      "source": [
        "data <- data.frame\n",
        "(\n",
        "  ID = c(1, 2, 3),\n",
        "  Jan = c(10, 15, 20),\n",
        "  Feb = c(12, 18, 22),\n",
        "  Mar = c(14, 20, 25)\n",
        ")\n",
        "\n",
        "\n",
        "print(\"Original data:\")\n",
        "print(data)\n",
        "\n",
        "# Reshape data using gather(vertical)\n",
        "gathered_data <- gather(data, key = \"Month\", value = \"Value\", -ID)\n",
        "print(\"\\nReshaped data using gather:\")\n",
        "print(gathered_data)\n",
        "\n",
        "# Reshape data using spread(horizontal)\n",
        "spread_data <- spread(gathered_data, key = \"Month\", value = \"Value\")\n",
        "print(\"\\nReshaped data using spread:\")\n",
        "print(spread_data)"
      ],
      "metadata": {
        "colab": {
          "base_uri": "https://localhost:8080/"
        },
        "id": "NhDuJy6JGbJs",
        "outputId": "b1d70ec0-2782-4346-ef8a-56686acd41cd"
      },
      "execution_count": 11,
      "outputs": [
        {
          "output_type": "stream",
          "name": "stdout",
          "text": [
            "[1] \"Original data:\"\n",
            "  ID Jan Feb Mar\n",
            "1  1  10  12  14\n",
            "2  2  15  18  20\n",
            "3  3  20  22  25\n",
            "[1] \"\\nReshaped data using gather:\"\n",
            "  ID Month Value\n",
            "1  1   Jan    10\n",
            "2  2   Jan    15\n",
            "3  3   Jan    20\n",
            "4  1   Feb    12\n",
            "5  2   Feb    18\n",
            "6  3   Feb    22\n",
            "7  1   Mar    14\n",
            "8  2   Mar    20\n",
            "9  3   Mar    25\n",
            "[1] \"\\nReshaped data using spread:\"\n",
            "  ID Feb Jan Mar\n",
            "1  1  12  10  14\n",
            "2  2  18  15  20\n",
            "3  3  22  20  25\n"
          ]
        }
      ]
    }
  ]
}